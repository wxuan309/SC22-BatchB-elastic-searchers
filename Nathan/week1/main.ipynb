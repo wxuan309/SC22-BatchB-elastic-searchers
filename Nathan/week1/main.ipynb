{
 "cells": [
  {
   "cell_type": "markdown",
   "metadata": {
    "collapsed": false
   },
   "source": [
    "#### Import packages"
   ]
  },
  {
   "cell_type": "code",
   "execution_count": 2,
   "metadata": {
    "collapsed": false
   },
   "outputs": [
   ],
   "source": [
    "# replace ??? with the package you will use (pandas and plotly)\n",
    "import pandas as pd\n",
    "import plotly.express as px\n",
    "#thank you"
   ]
  },
  {
   "cell_type": "markdown",
   "metadata": {
    "collapsed": false
   },
   "source": [
    "#### Load Dataset"
   ]
  },
  {
   "cell_type": "code",
   "execution_count": 3,
   "metadata": {
    "collapsed": false
   },
   "outputs": [
   ],
   "source": [
    "# replace ??? with your csv file name\n",
    "# IMDb_Data_final.csv this will be your file name yep you got it\n",
    "df = pd.read_csv('./IMDb_Data_final.csv')\n"
   ]
  },
  {
   "cell_type": "code",
   "execution_count": 0,
   "metadata": {
    "collapsed": false
   },
   "outputs": [
   ],
   "source": [
    "# woohoo! go have lunch now! its a long morning take some rest : )"
   ]
  },
  {
   "cell_type": "code",
   "execution_count": 4,
   "metadata": {
    "collapsed": false
   },
   "outputs": [
    {
     "data": {
      "text/html": [
       "<div>\n",
       "<style scoped>\n",
       "    .dataframe tbody tr th:only-of-type {\n",
       "        vertical-align: middle;\n",
       "    }\n",
       "\n",
       "    .dataframe tbody tr th {\n",
       "        vertical-align: top;\n",
       "    }\n",
       "\n",
       "    .dataframe thead th {\n",
       "        text-align: right;\n",
       "    }\n",
       "</style>\n",
       "<table border=\"1\" class=\"dataframe\">\n",
       "  <thead>\n",
       "    <tr style=\"text-align: right;\">\n",
       "      <th></th>\n",
       "      <th>Title</th>\n",
       "      <th>Director</th>\n",
       "      <th>Stars</th>\n",
       "      <th>IMDb-Rating</th>\n",
       "      <th>Category</th>\n",
       "      <th>Duration</th>\n",
       "      <th>Censor-board-rating</th>\n",
       "      <th>ReleaseYear</th>\n",
       "    </tr>\n",
       "  </thead>\n",
       "  <tbody>\n",
       "    <tr>\n",
       "      <th>0</th>\n",
       "      <td>Top Gun: Maverick</td>\n",
       "      <td>JosephKosinski</td>\n",
       "      <td>TomCruise, JenniferConnelly, MilesTeller, ValK...</td>\n",
       "      <td>8.6</td>\n",
       "      <td>Action,Drama</td>\n",
       "      <td>130min</td>\n",
       "      <td>UA</td>\n",
       "      <td>2022</td>\n",
       "    </tr>\n",
       "    <tr>\n",
       "      <th>1</th>\n",
       "      <td>Everything Everywhere All at Once</td>\n",
       "      <td>DanKwan,</td>\n",
       "      <td>, MichelleYeoh, StephanieHsu, KeHuyQuan, James...</td>\n",
       "      <td>8.3</td>\n",
       "      <td>Action,Adventure,Comedy</td>\n",
       "      <td>139min</td>\n",
       "      <td>R</td>\n",
       "      <td>2022</td>\n",
       "    </tr>\n",
       "    <tr>\n",
       "      <th>2</th>\n",
       "      <td>The Batman</td>\n",
       "      <td>MattReeves</td>\n",
       "      <td>RobertPattinson, ZoëKravitz, JeffreyWright, Co...</td>\n",
       "      <td>7.9</td>\n",
       "      <td>Action,Crime,Drama</td>\n",
       "      <td>176min</td>\n",
       "      <td>UA</td>\n",
       "      <td>2022</td>\n",
       "    </tr>\n",
       "    <tr>\n",
       "      <th>3</th>\n",
       "      <td>Jurassic Park</td>\n",
       "      <td>StevenSpielberg</td>\n",
       "      <td>SamNeill, LauraDern, JeffGoldblum, RichardAtte...</td>\n",
       "      <td>8.2</td>\n",
       "      <td>Action,Adventure,Sci-Fi</td>\n",
       "      <td>127min</td>\n",
       "      <td>UA</td>\n",
       "      <td>1993</td>\n",
       "    </tr>\n",
       "    <tr>\n",
       "      <th>4</th>\n",
       "      <td>The Godfather</td>\n",
       "      <td>FrancisFordCoppola</td>\n",
       "      <td>MarlonBrando, AlPacino, JamesCaan, DianeKeaton</td>\n",
       "      <td>9.2</td>\n",
       "      <td>Crime,Drama</td>\n",
       "      <td>175min</td>\n",
       "      <td>A</td>\n",
       "      <td>1972</td>\n",
       "    </tr>\n",
       "  </tbody>\n",
       "</table>\n",
       "</div>"
      ],
      "text/plain": [
       "                               Title            Director  \\\n",
       "0                  Top Gun: Maverick      JosephKosinski   \n",
       "1  Everything Everywhere All at Once            DanKwan,   \n",
       "2                         The Batman          MattReeves   \n",
       "3                      Jurassic Park     StevenSpielberg   \n",
       "4                      The Godfather  FrancisFordCoppola   \n",
       "\n",
       "                                               Stars  IMDb-Rating  \\\n",
       "0  TomCruise, JenniferConnelly, MilesTeller, ValK...          8.6   \n",
       "1  , MichelleYeoh, StephanieHsu, KeHuyQuan, James...          8.3   \n",
       "2  RobertPattinson, ZoëKravitz, JeffreyWright, Co...          7.9   \n",
       "3  SamNeill, LauraDern, JeffGoldblum, RichardAtte...          8.2   \n",
       "4     MarlonBrando, AlPacino, JamesCaan, DianeKeaton          9.2   \n",
       "\n",
       "                  Category Duration Censor-board-rating  ReleaseYear  \n",
       "0             Action,Drama   130min                  UA         2022  \n",
       "1  Action,Adventure,Comedy   139min                   R         2022  \n",
       "2       Action,Crime,Drama   176min                  UA         2022  \n",
       "3  Action,Adventure,Sci-Fi   127min                  UA         1993  \n",
       "4              Crime,Drama   175min                   A         1972  "
      ]
     },
     "execution_count": 4,
     "metadata": {
     },
     "output_type": "execute_result"
    }
   ],
   "source": [
    "# print the first 5 rows of the dataframe. ok Thank you :)\n",
    "df.head(5)"
   ]
  },
  {
   "cell_type": "code",
   "execution_count": 0,
   "metadata": {
    "collapsed": false
   },
   "outputs": [
   ],
   "source": [
    "# give information of the dataframe\n",
    "df.info()"
   ]
  },
  {
   "cell_type": "code",
   "execution_count": 5,
   "metadata": {
    "collapsed": false
   },
   "outputs": [
    {
     "data": {
      "text/html": [
       "<div>\n",
       "<style scoped>\n",
       "    .dataframe tbody tr th:only-of-type {\n",
       "        vertical-align: middle;\n",
       "    }\n",
       "\n",
       "    .dataframe tbody tr th {\n",
       "        vertical-align: top;\n",
       "    }\n",
       "\n",
       "    .dataframe thead th {\n",
       "        text-align: right;\n",
       "    }\n",
       "</style>\n",
       "<table border=\"1\" class=\"dataframe\">\n",
       "  <thead>\n",
       "    <tr style=\"text-align: right;\">\n",
       "      <th></th>\n",
       "      <th>Title</th>\n",
       "      <th>Director</th>\n",
       "      <th>Stars</th>\n",
       "      <th>IMDb-Rating</th>\n",
       "      <th>Category</th>\n",
       "      <th>Duration</th>\n",
       "      <th>Censor-board-rating</th>\n",
       "      <th>ReleaseYear</th>\n",
       "    </tr>\n",
       "  </thead>\n",
       "  <tbody>\n",
       "    <tr>\n",
       "      <th>995</th>\n",
       "      <td>Vizontele</td>\n",
       "      <td>YilmazErdogan,</td>\n",
       "      <td>, YilmazErdogan, DemetAkbag, AltanErkekli, Cem...</td>\n",
       "      <td>8.0</td>\n",
       "      <td>Comedy,Drama</td>\n",
       "      <td>110min</td>\n",
       "      <td>NaN</td>\n",
       "      <td>2001</td>\n",
       "    </tr>\n",
       "    <tr>\n",
       "      <th>996</th>\n",
       "      <td>Sarfarosh</td>\n",
       "      <td>JohnMathewMatthan</td>\n",
       "      <td>AamirKhan, NaseeruddinShah, SonaliBendre, Muke...</td>\n",
       "      <td>8.1</td>\n",
       "      <td>Action,Drama,Thriller</td>\n",
       "      <td>174min</td>\n",
       "      <td>A</td>\n",
       "      <td>1999</td>\n",
       "    </tr>\n",
       "    <tr>\n",
       "      <th>997</th>\n",
       "      <td>Udaan</td>\n",
       "      <td>VikramadityaMotwane</td>\n",
       "      <td>RajatBarmecha, RonitRoy, ManjotSingh, RamKapoor</td>\n",
       "      <td>8.1</td>\n",
       "      <td>Drama</td>\n",
       "      <td>134min</td>\n",
       "      <td>UA</td>\n",
       "      <td>2010</td>\n",
       "    </tr>\n",
       "    <tr>\n",
       "      <th>998</th>\n",
       "      <td>English Vinglish</td>\n",
       "      <td>GauriShinde</td>\n",
       "      <td>Sridevi, AdilHussain, MehdiNebbou, PriyaAnand</td>\n",
       "      <td>7.8</td>\n",
       "      <td>Comedy,Drama,Family</td>\n",
       "      <td>134min</td>\n",
       "      <td>U</td>\n",
       "      <td>2012</td>\n",
       "    </tr>\n",
       "    <tr>\n",
       "      <th>999</th>\n",
       "      <td>Anand</td>\n",
       "      <td>HrishikeshMukherjee</td>\n",
       "      <td>RajeshKhanna, AmitabhBachchan, SumitaSanyal, R...</td>\n",
       "      <td>8.1</td>\n",
       "      <td>Drama,Musical</td>\n",
       "      <td>122min</td>\n",
       "      <td>U</td>\n",
       "      <td>1971</td>\n",
       "    </tr>\n",
       "  </tbody>\n",
       "</table>\n",
       "</div>"
      ],
      "text/plain": [
       "                Title             Director  \\\n",
       "995         Vizontele       YilmazErdogan,   \n",
       "996         Sarfarosh    JohnMathewMatthan   \n",
       "997             Udaan  VikramadityaMotwane   \n",
       "998  English Vinglish          GauriShinde   \n",
       "999             Anand  HrishikeshMukherjee   \n",
       "\n",
       "                                                 Stars  IMDb-Rating  \\\n",
       "995  , YilmazErdogan, DemetAkbag, AltanErkekli, Cem...          8.0   \n",
       "996  AamirKhan, NaseeruddinShah, SonaliBendre, Muke...          8.1   \n",
       "997    RajatBarmecha, RonitRoy, ManjotSingh, RamKapoor          8.1   \n",
       "998      Sridevi, AdilHussain, MehdiNebbou, PriyaAnand          7.8   \n",
       "999  RajeshKhanna, AmitabhBachchan, SumitaSanyal, R...          8.1   \n",
       "\n",
       "                  Category Duration Censor-board-rating  ReleaseYear  \n",
       "995           Comedy,Drama   110min                 NaN         2001  \n",
       "996  Action,Drama,Thriller   174min                   A         1999  \n",
       "997                  Drama   134min                  UA         2010  \n",
       "998    Comedy,Drama,Family   134min                   U         2012  \n",
       "999          Drama,Musical   122min                   U         1971  "
      ]
     },
     "execution_count": 5,
     "metadata": {
     },
     "output_type": "execute_result"
    }
   ],
   "source": [
    "df.tail(5)"
   ]
  },
  {
   "cell_type": "markdown",
   "metadata": {
    "collapsed": false
   },
   "source": [
    "#### Data Cleaning\n",
    "\n"
   ]
  },
  {
   "cell_type": "code",
   "execution_count": 13,
   "metadata": {
    "collapsed": false
   },
   "outputs": [
   ],
   "source": [
    "columns_to_drop = ['Censor-board-rating', 'Category']\n",
    "df.drop(columns_to_drop, axis = 1, inplace = True)\n"
   ]
  },
  {
   "cell_type": "code",
   "execution_count": 14,
   "metadata": {
    "collapsed": false,
    "scrolled": true
   },
   "outputs": [
    {
     "data": {
      "text/html": [
       "<div>\n",
       "<style scoped>\n",
       "    .dataframe tbody tr th:only-of-type {\n",
       "        vertical-align: middle;\n",
       "    }\n",
       "\n",
       "    .dataframe tbody tr th {\n",
       "        vertical-align: top;\n",
       "    }\n",
       "\n",
       "    .dataframe thead th {\n",
       "        text-align: right;\n",
       "    }\n",
       "</style>\n",
       "<table border=\"1\" class=\"dataframe\">\n",
       "  <thead>\n",
       "    <tr style=\"text-align: right;\">\n",
       "      <th></th>\n",
       "      <th>Title</th>\n",
       "      <th>Director</th>\n",
       "      <th>Stars</th>\n",
       "      <th>IMDb-Rating</th>\n",
       "      <th>Duration</th>\n",
       "      <th>ReleaseYear</th>\n",
       "    </tr>\n",
       "  </thead>\n",
       "  <tbody>\n",
       "    <tr>\n",
       "      <th>0</th>\n",
       "      <td>Top Gun: Maverick</td>\n",
       "      <td>JosephKosinski</td>\n",
       "      <td>TomCruise, JenniferConnelly, MilesTeller, ValK...</td>\n",
       "      <td>8.6</td>\n",
       "      <td>130min</td>\n",
       "      <td>2022</td>\n",
       "    </tr>\n",
       "  </tbody>\n",
       "</table>\n",
       "</div>"
      ],
      "text/plain": [
       "               Title        Director  \\\n",
       "0  Top Gun: Maverick  JosephKosinski   \n",
       "\n",
       "                                               Stars  IMDb-Rating Duration  \\\n",
       "0  TomCruise, JenniferConnelly, MilesTeller, ValK...          8.6   130min   \n",
       "\n",
       "   ReleaseYear  \n",
       "0         2022  "
      ]
     },
     "execution_count": 14,
     "metadata": {
     },
     "output_type": "execute_result"
    }
   ],
   "source": [
    "df.head(1)"
   ]
  },
  {
   "cell_type": "code",
   "execution_count": 0,
   "metadata": {
    "collapsed": false
   },
   "outputs": [
   ],
   "source": [
   ]
  },
  {
   "cell_type": "code",
   "execution_count": 0,
   "metadata": {
    "collapsed": false
   },
   "outputs": [
   ],
   "source": [
   ]
  },
  {
   "cell_type": "code",
   "execution_count": 0,
   "metadata": {
    "collapsed": false
   },
   "outputs": [
   ],
   "source": [
   ]
  },
  {
   "cell_type": "markdown",
   "metadata": {
    "collapsed": false
   },
   "source": [
    "#### Exploratory Data Analysis"
   ]
  },
  {
   "cell_type": "code",
   "execution_count": 0,
   "metadata": {
    "collapsed": false
   },
   "outputs": [
   ],
   "source": [
   ]
  },
  {
   "cell_type": "code",
   "execution_count": 0,
   "metadata": {
    "collapsed": false
   },
   "outputs": [
   ],
   "source": [
   ]
  },
  {
   "cell_type": "code",
   "execution_count": 0,
   "metadata": {
    "collapsed": false
   },
   "outputs": [
   ],
   "source": [
   ]
  },
  {
   "cell_type": "code",
   "execution_count": 0,
   "metadata": {
    "collapsed": false
   },
   "outputs": [
   ],
   "source": [
   ]
  }
 ],
 "metadata": {
  "kernelspec": {
   "display_name": "Python (elastic-searchers)",
   "language": "python",
   "metadata": {
    "debugger": true
   },
   "name": "elastic-searchers",
   "resource_dir": "/projects/7b851546-01cd-4477-a30c-927567abb7ed/.local/share/jupyter/kernels/elastic-searchers"
  },
  "language_info": {
   "codemirror_mode": {
    "name": "ipython",
    "version": 3
   },
   "file_extension": ".py",
   "mimetype": "text/x-python",
   "name": "python",
   "nbconvert_exporter": "python",
   "pygments_lexer": "ipython3",
   "version": "3.9.12"
  }
 },
 "nbformat": 4,
 "nbformat_minor": 4
}